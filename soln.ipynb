{
  "nbformat": 4,
  "nbformat_minor": 0,
  "metadata": {
    "colab": {
      "name": "soln.ipynb",
      "provenance": [],
      "collapsed_sections": [],
      "authorship_tag": "ABX9TyOqpTt/4Cd+MCO0rH73Y7uw"
    },
    "kernelspec": {
      "name": "python3",
      "display_name": "Python 3"
    },
    "language_info": {
      "name": "python"
    }
  },
  "cells": [
    {
      "cell_type": "markdown",
      "metadata": {
        "id": "mxlt_idnWvqT"
      },
      "source": [
        "# GRIP at The Sparks Foundation - April 2021\n",
        "## Data science and Business analytics internship:\n",
        "### **Author:** P. Abishek Viswanath\n",
        "\n",
        "**Task:** Given the dataset of the number of hours studied and the corresponding marks scored by students as a dataset, predict the marks that will be scored by a student when the input is number of hours studied. Use linear regression in two variables.\n",
        "\n",
        "**Modules used:** pandas, matplotlib, numpy, sklearn. <br>\n",
        "**Dataset:** [dataset](https://raw.githubusercontent.com/AdiPersonalWorks/Random/master/student_scores%20-%20student_scores.csv)\n",
        "\n",
        "\\#tsf #gripapril2021 #grip #datascience #machine-learning\n"
      ]
    },
    {
      "cell_type": "code",
      "metadata": {
        "id": "6X7Xr0VnvZUf"
      },
      "source": [
        "#Importing the required modules\n",
        "import pandas as pd\n",
        "import matplotlib.pyplot as plt\n",
        "import numpy as np"
      ],
      "execution_count": null,
      "outputs": []
    },
    {
      "cell_type": "code",
      "metadata": {
        "colab": {
          "base_uri": "https://localhost:8080/",
          "height": 195
        },
        "id": "uIurp8BEwn0Z",
        "outputId": "6da374e6-1836-4b7d-da71-2f1157f7411d"
      },
      "source": [
        "#Reading the dataset using pandas\n",
        "url = \"https://raw.githubusercontent.com/AdiPersonalWorks/Random/master/student_scores%20-%20student_scores.csv\"\n",
        "dataset = pd.read_csv(url)\n",
        "#Printing the first five data points\n",
        "dataset.head(5)"
      ],
      "execution_count": null,
      "outputs": [
        {
          "output_type": "execute_result",
          "data": {
            "text/html": [
              "<div>\n",
              "<style scoped>\n",
              "    .dataframe tbody tr th:only-of-type {\n",
              "        vertical-align: middle;\n",
              "    }\n",
              "\n",
              "    .dataframe tbody tr th {\n",
              "        vertical-align: top;\n",
              "    }\n",
              "\n",
              "    .dataframe thead th {\n",
              "        text-align: right;\n",
              "    }\n",
              "</style>\n",
              "<table border=\"1\" class=\"dataframe\">\n",
              "  <thead>\n",
              "    <tr style=\"text-align: right;\">\n",
              "      <th></th>\n",
              "      <th>Hours</th>\n",
              "      <th>Scores</th>\n",
              "    </tr>\n",
              "  </thead>\n",
              "  <tbody>\n",
              "    <tr>\n",
              "      <th>0</th>\n",
              "      <td>2.5</td>\n",
              "      <td>21</td>\n",
              "    </tr>\n",
              "    <tr>\n",
              "      <th>1</th>\n",
              "      <td>5.1</td>\n",
              "      <td>47</td>\n",
              "    </tr>\n",
              "    <tr>\n",
              "      <th>2</th>\n",
              "      <td>3.2</td>\n",
              "      <td>27</td>\n",
              "    </tr>\n",
              "    <tr>\n",
              "      <th>3</th>\n",
              "      <td>8.5</td>\n",
              "      <td>75</td>\n",
              "    </tr>\n",
              "    <tr>\n",
              "      <th>4</th>\n",
              "      <td>3.5</td>\n",
              "      <td>30</td>\n",
              "    </tr>\n",
              "  </tbody>\n",
              "</table>\n",
              "</div>"
            ],
            "text/plain": [
              "   Hours  Scores\n",
              "0    2.5      21\n",
              "1    5.1      47\n",
              "2    3.2      27\n",
              "3    8.5      75\n",
              "4    3.5      30"
            ]
          },
          "metadata": {
            "tags": []
          },
          "execution_count": 2
        }
      ]
    },
    {
      "cell_type": "code",
      "metadata": {
        "colab": {
          "base_uri": "https://localhost:8080/",
          "height": 295
        },
        "id": "OezWDPNixEE_",
        "outputId": "8ab02989-07fe-490a-83b1-83558dad3d0f"
      },
      "source": [
        "#Visualising the dataset\n",
        "dataset.plot(x = \"Hours\", y = \"Scores\", style = \"or\")\n",
        "plt.xlabel(\"Hours studied\")\n",
        "plt.ylabel(\"Marks scored\")\n",
        "plt.title(\"Hours studied vs. marks scored\")\n",
        "plt.show()"
      ],
      "execution_count": null,
      "outputs": [
        {
          "output_type": "display_data",
          "data": {
            "image/png": "[encoded data removed]",
            "text/plain": [
              "<Figure size 432x288 with 1 Axes>"
            ]
          },
          "metadata": {
            "tags": [],
            "needs_background": "light"
          }
        }
      ]
    },
    {
      "cell_type": "code",
      "metadata": {
        "colab": {
          "base_uri": "https://localhost:8080/",
          "height": 106
        },
        "id": "oet8hU_1zrZm",
        "outputId": "d99ecf36-6f4a-4ee3-dc2d-5f933a25b23b"
      },
      "source": [
        "#Finding correlations in the dataset\n",
        "dataset.corr()"
      ],
      "execution_count": null,
      "outputs": [
        {
          "output_type": "execute_result",
          "data": {
            "text/html": [
              "<div>\n",
              "<style scoped>\n",
              "    .dataframe tbody tr th:only-of-type {\n",
              "        vertical-align: middle;\n",
              "    }\n",
              "\n",
              "    .dataframe tbody tr th {\n",
              "        vertical-align: top;\n",
              "    }\n",
              "\n",
              "    .dataframe thead th {\n",
              "        text-align: right;\n",
              "    }\n",
              "</style>\n",
              "<table border=\"1\" class=\"dataframe\">\n",
              "  <thead>\n",
              "    <tr style=\"text-align: right;\">\n",
              "      <th></th>\n",
              "      <th>Hours</th>\n",
              "      <th>Scores</th>\n",
              "    </tr>\n",
              "  </thead>\n",
              "  <tbody>\n",
              "    <tr>\n",
              "      <th>Hours</th>\n",
              "      <td>1.000000</td>\n",
              "      <td>0.976191</td>\n",
              "    </tr>\n",
              "    <tr>\n",
              "      <th>Scores</th>\n",
              "      <td>0.976191</td>\n",
              "      <td>1.000000</td>\n",
              "    </tr>\n",
              "  </tbody>\n",
              "</table>\n",
              "</div>"
            ],
            "text/plain": [
              "           Hours    Scores\n",
              "Hours   1.000000  0.976191\n",
              "Scores  0.976191  1.000000"
            ]
          },
          "metadata": {
            "tags": []
          },
          "execution_count": 4
        }
      ]
    },
    {
      "cell_type": "markdown",
      "metadata": {
        "id": "5Vgk2q6w0GH_"
      },
      "source": [
        "From the above correlation table, we infer that there is a strong positive correlation between hours studied and the marks scored by the student. This means the more the number of hours studied, the greater the marks scored will be."
      ]
    },
    {
      "cell_type": "code",
      "metadata": {
        "id": "SZwzGztq0m3V",
        "colab": {
          "base_uri": "https://localhost:8080/"
        },
        "outputId": "bdac9f83-3c62-4438-bd68-7c56aa14c657"
      },
      "source": [
        "#Obtaining the dataset\n",
        "X = dataset.iloc[:,0].values.reshape(-1, 1)\n",
        "y = dataset.iloc[:, 1].values;\n",
        "#Using sklearn to split the dataset into train and test\n",
        "from sklearn.model_selection import train_test_split\n",
        "X_train, X_test, y_train, y_test = train_test_split(X, y, test_size = 0.2, random_state = 0)\n",
        "#importing the linear regression model\n",
        "from sklearn.linear_model import LinearRegression\n",
        "regressor = LinearRegression() #initliaizing the model\n",
        "regressor.fit(X_train, y_train)\n",
        "print(\"Training complete\")"
      ],
      "execution_count": null,
      "outputs": [
        {
          "output_type": "stream",
          "text": [
            "Training complete\n"
          ],
          "name": "stdout"
        }
      ]
    },
    {
      "cell_type": "code",
      "metadata": {
        "colab": {
          "base_uri": "https://localhost:8080/",
          "height": 295
        },
        "id": "2XMIjMsIfnZG",
        "outputId": "feed537f-b38b-4c15-f60f-4eb12e8a9411"
      },
      "source": [
        "#Predicting on the test set\n",
        "regressor_line = regressor.predict(X)\n",
        "plt.plot(X, y,'or')\n",
        "plt.plot(X, regressor_line, color = 'k', linewidth = '0.25')\n",
        "plt.xlabel(\"Hours studied\")\n",
        "plt.ylabel(\"Marks scored\")\n",
        "plt.title(\"Output\")\n",
        "plt.show()"
      ],
      "execution_count": null,
      "outputs": [
        {
          "output_type": "display_data",
          "data": {
            "image/png": "[encoded data removed]",
            "text/plain": [
              "<Figure size 432x288 with 1 Axes>"
            ]
          },
          "metadata": {
            "tags": [],
            "needs_background": "light"
          }
        }
      ]
    },
    {
      "cell_type": "markdown",
      "metadata": {
        "id": "9fZlZm3vqD0Q"
      },
      "source": [
        "Plot of the model against the scatter plot of the dataset"
      ]
    },
    {
      "cell_type": "code",
      "metadata": {
        "colab": {
          "base_uri": "https://localhost:8080/",
          "height": 195
        },
        "id": "rvJNMvkLk8Sq",
        "outputId": "027610b6-fa16-4aa4-e67b-880437fc51cb"
      },
      "source": [
        "#Using the model on test set\n",
        "predictions = regressor.predict(X_test)\n",
        "pred_test = pd.DataFrame({\"Actual\" : y_test, \"Predictions\" : predictions})\n",
        "pred_test"
      ],
      "execution_count": null,
      "outputs": [
        {
          "output_type": "execute_result",
          "data": {
            "text/html": [
              "<div>\n",
              "<style scoped>\n",
              "    .dataframe tbody tr th:only-of-type {\n",
              "        vertical-align: middle;\n",
              "    }\n",
              "\n",
              "    .dataframe tbody tr th {\n",
              "        vertical-align: top;\n",
              "    }\n",
              "\n",
              "    .dataframe thead th {\n",
              "        text-align: right;\n",
              "    }\n",
              "</style>\n",
              "<table border=\"1\" class=\"dataframe\">\n",
              "  <thead>\n",
              "    <tr style=\"text-align: right;\">\n",
              "      <th></th>\n",
              "      <th>Actual</th>\n",
              "      <th>Predictions</th>\n",
              "    </tr>\n",
              "  </thead>\n",
              "  <tbody>\n",
              "    <tr>\n",
              "      <th>0</th>\n",
              "      <td>20</td>\n",
              "      <td>16.884145</td>\n",
              "    </tr>\n",
              "    <tr>\n",
              "      <th>1</th>\n",
              "      <td>27</td>\n",
              "      <td>33.732261</td>\n",
              "    </tr>\n",
              "    <tr>\n",
              "      <th>2</th>\n",
              "      <td>69</td>\n",
              "      <td>75.357018</td>\n",
              "    </tr>\n",
              "    <tr>\n",
              "      <th>3</th>\n",
              "      <td>30</td>\n",
              "      <td>26.794801</td>\n",
              "    </tr>\n",
              "    <tr>\n",
              "      <th>4</th>\n",
              "      <td>62</td>\n",
              "      <td>60.491033</td>\n",
              "    </tr>\n",
              "  </tbody>\n",
              "</table>\n",
              "</div>"
            ],
            "text/plain": [
              "   Actual  Predictions\n",
              "0      20    16.884145\n",
              "1      27    33.732261\n",
              "2      69    75.357018\n",
              "3      30    26.794801\n",
              "4      62    60.491033"
            ]
          },
          "metadata": {
            "tags": []
          },
          "execution_count": 46
        }
      ]
    },
    {
      "cell_type": "markdown",
      "metadata": {
        "id": "SR3EWprMp9qM"
      },
      "source": [
        "Here we find that the model performs well on the test set."
      ]
    },
    {
      "cell_type": "code",
      "metadata": {
        "colab": {
          "base_uri": "https://localhost:8080/"
        },
        "id": "Zf9UBOTXnzbs",
        "outputId": "94368789-54d9-4c50-a55f-de6993d7d3e8"
      },
      "source": [
        "#Measuring the performance of the model\n",
        "from sklearn.metrics import mean_absolute_error\n",
        "print(\"The mean squared error is \", mean_absolute_error(y_test, predictions))\n",
        "#Using on custom data\n",
        "hours = np.array([9.25])\n",
        "print(\"The marks scored when the number of hours studied is 9.25 is: \", regressor.predict(hours.reshape(1, -1)))"
      ],
      "execution_count": null,
      "outputs": [
        {
          "output_type": "stream",
          "text": [
            "The mean squared error is  4.183859899002982\n",
            "The marks scored when the number of hours studied is 9.25 is:  [93.69173249]\n"
          ],
          "name": "stdout"
        }
      ]
    }
  ]
}